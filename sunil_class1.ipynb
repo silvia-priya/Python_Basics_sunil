{
 "cells": [
  {
   "cell_type": "code",
   "execution_count": 2,
   "metadata": {},
   "outputs": [
    {
     "name": "stdout",
     "output_type": "stream",
     "text": [
      "10.9\n",
      "2531516839984\n",
      "90.678\n",
      "2531517631280\n"
     ]
    }
   ],
   "source": [
    "#numbers -- immutable\n",
    "num=10.90\n",
    "print(num)\n",
    "print(id(num))\n",
    "num=90.678\n",
    "print(num)\n",
    "print(id(num))"
   ]
  },
  {
   "cell_type": "code",
   "execution_count": 4,
   "metadata": {},
   "outputs": [
    {
     "name": "stdout",
     "output_type": "stream",
     "text": [
      "python\n",
      "2531486521008\n",
      "spark\n",
      "2531518292080\n"
     ]
    }
   ],
   "source": [
    "#strings --immutable\n",
    "name=\"python\"\n",
    "print(name)\n",
    "print(id(name))\n",
    "name=\"spark\"\n",
    "print(name)\n",
    "print(id(name))"
   ]
  },
  {
   "cell_type": "code",
   "execution_count": 7,
   "metadata": {},
   "outputs": [
    {
     "name": "stdout",
     "output_type": "stream",
     "text": [
      "(10, 12, 13, 'python', 90.34)\n",
      "2531518187936\n",
      "(13, 24, 89)\n",
      "2531518344640\n"
     ]
    },
    {
     "ename": "TypeError",
     "evalue": "'tuple' object does not support item assignment",
     "output_type": "error",
     "traceback": [
      "\u001b[1;31m---------------------------------------------------------------------------\u001b[0m",
      "\u001b[1;31mTypeError\u001b[0m                                 Traceback (most recent call last)",
      "\u001b[1;32m<ipython-input-7-e0aab1ac381b>\u001b[0m in \u001b[0;36m<module>\u001b[1;34m\u001b[0m\n\u001b[0;32m      6\u001b[0m \u001b[0mprint\u001b[0m\u001b[1;33m(\u001b[0m\u001b[0mtup1\u001b[0m\u001b[1;33m)\u001b[0m\u001b[1;33m\u001b[0m\u001b[1;33m\u001b[0m\u001b[0m\n\u001b[0;32m      7\u001b[0m \u001b[0mprint\u001b[0m\u001b[1;33m(\u001b[0m\u001b[0mid\u001b[0m\u001b[1;33m(\u001b[0m\u001b[0mtup1\u001b[0m\u001b[1;33m)\u001b[0m\u001b[1;33m)\u001b[0m\u001b[1;33m\u001b[0m\u001b[1;33m\u001b[0m\u001b[0m\n\u001b[1;32m----> 8\u001b[1;33m \u001b[0mtup1\u001b[0m\u001b[1;33m[\u001b[0m\u001b[1;36m3\u001b[0m\u001b[1;33m]\u001b[0m\u001b[1;33m=\u001b[0m\u001b[1;34m\"spark\"\u001b[0m\u001b[1;33m\u001b[0m\u001b[1;33m\u001b[0m\u001b[0m\n\u001b[0m\u001b[0;32m      9\u001b[0m \u001b[0mprint\u001b[0m\u001b[1;33m(\u001b[0m\u001b[0mtup1\u001b[0m\u001b[1;33m)\u001b[0m\u001b[1;33m\u001b[0m\u001b[1;33m\u001b[0m\u001b[0m\n",
      "\u001b[1;31mTypeError\u001b[0m: 'tuple' object does not support item assignment"
     ]
    }
   ],
   "source": [
    "#tuples -- immutable\n",
    "tup1=(10,12,13,\"python\",90.34)\n",
    "print(tup1)\n",
    "print(id(tup1))\n",
    "tup1=(13,24,89)\n",
    "print(tup1)\n",
    "print(id(tup1))\n",
    "tup1[3]=\"spark\"\n",
    "print(tup1)"
   ]
  },
  {
   "cell_type": "code",
   "execution_count": 35,
   "metadata": {},
   "outputs": [
    {
     "name": "stdout",
     "output_type": "stream",
     "text": [
      "[12, 23, 34, 56]\n",
      "2531536556864\n",
      "[90, 23, 34, 56]\n",
      "2531536556864\n",
      "[90, 23, 34, 56, 'python']\n",
      "[90, 23, 'GCP', 34, 56, 'python']\n",
      "[90, 23, 'GCP', 34, 56, 'python', 90, 80, 40]\n",
      "[90, 23, 'GCP', 34, 56, 90, 80, 40]\n",
      "[90, 23, 'GCP', 34, 56, 90, 80]\n",
      "[]\n",
      "23\n",
      "90\n",
      "3\n"
     ]
    }
   ],
   "source": [
    "lst1=[12,23,34,56]\n",
    "print(lst1)\n",
    "print(id(lst1))\n",
    "lst1[0]=90\n",
    "print(lst1)\n",
    "print(id(lst1))\n",
    "\n",
    "lst1.append(\"python\")\n",
    "print(lst1)\n",
    "lst1.insert(2,\"GCP\")\n",
    "print(lst1)\n",
    "lst1.extend([90,80,40])\n",
    "print(lst1)\n",
    "\n",
    "lst1.remove(\"python\")\n",
    "print(lst1)\n",
    "\n",
    "lst1.pop()\n",
    "print(lst1)\n",
    "\n",
    "lst1.clear()\n",
    "print(lst1)\n",
    "\n",
    "lst2=[90,34,23]\n",
    "\n",
    "print(min(lst2))\n",
    "print(max(lst2))\n",
    "print(len(lst2))"
   ]
  },
  {
   "cell_type": "code",
   "execution_count": 27,
   "metadata": {},
   "outputs": [
    {
     "name": "stdout",
     "output_type": "stream",
     "text": [
      "{32, 'hadoop', 12, 45}\n",
      "2531519057984\n",
      "{32, 'spark', 12, 45, 'hadoop'}\n"
     ]
    }
   ],
   "source": [
    "set1={12,32,45,\"hadoop\",12}\n",
    "print(set1)\n",
    "print(id(set1))\n",
    "set1.add(\"spark\")\n",
    "print(set1)\n",
    "#print(set1[0])"
   ]
  },
  {
   "cell_type": "code",
   "execution_count": 26,
   "metadata": {},
   "outputs": [
    {
     "name": "stdout",
     "output_type": "stream",
     "text": [
      "{'name': 'kiran', 'age': 10, 'grade': 10}\n",
      "2531519102592\n",
      "10\n",
      "{'name': ['stud1', 'stud4', 'stud5'], 'age': [9, 9, 67]}\n",
      "dict_keys(['name', 'age'])\n",
      "dict_values([['stud1', 'stud4', 'stud5'], [9, 9, 67]])\n",
      "dict_items([('name', ['stud1', 'stud4', 'stud5']), ('age', [9, 9, 67])])\n",
      "[9, 9, 67]\n",
      "{'name': 'kiran', 'age': 10, 'grade': 1}\n"
     ]
    }
   ],
   "source": [
    "dict1={\"name\":\"riya\",\"age\":10,\"grade\":10,\"name\":\"kiran\"}\n",
    "print(dict1)\n",
    "print(id(dict1))\n",
    "print(dict1[\"age\"])\n",
    "dict2={\"name\":[\"stud1\",\"stud4\",\"stud5\"],\n",
    "       \"age\":[9,9,67]\n",
    "      }\n",
    "print(dict2)\n",
    "print(dict2.keys())\n",
    "print(dict2.values())\n",
    "print(dict2.items())\n",
    "print(dict2.get(\"age\"))\n",
    "##mutability\n",
    "\n",
    "dict1[\"grade\"]=1\n",
    "print(dict1)"
   ]
  },
  {
   "cell_type": "code",
   "execution_count": 3,
   "metadata": {},
   "outputs": [
    {
     "name": "stdout",
     "output_type": "stream",
     "text": [
      "[34, 12, 45, 23]\n",
      "<class 'list'>\n",
      "34\n",
      "[12, 23, 45]\n",
      "<class 'list'>\n",
      "[90, 23, 45]\n",
      "dict_items([(10, 'Anu'), (11, 'Priya'), (12, 'Riya')])\n",
      "[10, 11, 12]\n",
      "['Anu', 'Priya', 'Riya']\n"
     ]
    }
   ],
   "source": [
    "#Convert set,dictionary,tuple to list\n",
    "\n",
    "set1={12,23,34,45}\n",
    "list_set=list(set1)\n",
    "print(list_set)\n",
    "print(type(list_set))\n",
    "print(list_set[0])\n",
    "\n",
    "\n",
    "tup1=(12,23,45)\n",
    "tup_lst=list(tup1)\n",
    "print(tup_lst)\n",
    "print(type(tup_lst))\n",
    "tup_lst[0]=90\n",
    "print(tup_lst)\n",
    "\n",
    "dict1={10:\"Anu\",11:\"Priya\",12:\"Riya\"}\n",
    "key_lst=[]\n",
    "value_lst=[]\n",
    "print(dict1.items())\n",
    "for k,v in dict1.items():\n",
    "    key_lst.append(k)\n",
    "    value_lst.append(v)\n",
    "print(key_lst)\n",
    "print(value_lst)\n",
    "    \n"
   ]
  },
  {
   "cell_type": "code",
   "execution_count": 10,
   "metadata": {},
   "outputs": [
    {
     "name": "stdout",
     "output_type": "stream",
     "text": [
      "(34, 12, 45, 23)\n",
      "<class 'tuple'>\n",
      "12\n",
      "(12, 90, 78)\n",
      "<class 'tuple'>\n",
      "dict_items([(10, 'Anu'), (11, 'Priya'), (12, 'Riya')])\n",
      "[(10, 'Anu'), (11, 'Priya'), (12, 'Riya')]\n"
     ]
    }
   ],
   "source": [
    "#Convert set,dictionary,list to tuple\n",
    "\n",
    "set1={12,23,34,45}\n",
    "tup_set=tuple(set1)\n",
    "print(tup_set)\n",
    "print(type(tup_set))\n",
    "print(tup_set[1])\n",
    "#tup_set[2]=90\n",
    "\n",
    "\n",
    "lst1=[12,90,78]\n",
    "tup_lst=tuple(lst1)\n",
    "print(tup_lst)\n",
    "print(type(tup_lst))\n",
    "#tup_lst[1]=100\n",
    "\n",
    "\n",
    "dict1={10:\"Anu\",11:\"Priya\",12:\"Riya\"}\n",
    "\n",
    "print(dict1.items())\n",
    "\n",
    "tup_res=[(k,v) for k,v in dict1.items()]\n",
    "\n",
    "print(tup_res)\n"
   ]
  },
  {
   "cell_type": "code",
   "execution_count": 15,
   "metadata": {},
   "outputs": [
    {
     "name": "stdout",
     "output_type": "stream",
     "text": [
      "{'anu': 90, 'leela': 89, 'priya': 78}\n",
      "<class 'dict'>\n",
      "{'anu': 90, 'leela': 89, 'priya': 78}\n",
      "{12: 'anu', 13: 'priya', 14: 'karthick'}\n",
      "{89: 99, 43: 99, 12: 99, 23: 99}\n"
     ]
    }
   ],
   "source": [
    "#convert lists,tuples,sets to dict\n",
    "\n",
    "list_names=[\"anu\",\"leela\",\"priya\",\"riya\"]\n",
    "list_marks=[90,89,78]\n",
    "\n",
    "dict_lst=dict(zip(list_names,list_marks))\n",
    "print(dict_lst)\n",
    "print(type(dict_lst))\n",
    "\n",
    "\n",
    "tup_names=(\"anu\",\"leela\",\"priya\",\"riya\")\n",
    "tup_marks=(90,89,78)\n",
    "dict_tup=dict(zip(tup_names,tup_marks))\n",
    "print(dict_tup)\n",
    "\n",
    "\n",
    "tup_2=((12,\"anu\"),(13,\"priya\"),(14,\"karthick\"))\n",
    "dict_tup2=dict((x,y) for x,y in tup_2)\n",
    "print(dict_tup2)\n",
    "\n",
    "\n",
    "set1={12,23,43,89}\n",
    "dict_set=dict.fromkeys(set1,99)\n",
    "print(dict_set)\n"
   ]
  },
  {
   "cell_type": "code",
   "execution_count": 19,
   "metadata": {},
   "outputs": [
    {
     "name": "stdout",
     "output_type": "stream",
     "text": [
      "13\n",
      "3\n",
      "40\n",
      "512\n",
      "2\n",
      "2\n"
     ]
    }
   ],
   "source": [
    "a=8\n",
    "b=5\n",
    "c=3\n",
    "print(a+b)\n",
    "print(a-b)\n",
    "print(a*b)\n",
    "print(a**c)\n",
    "print(a//c)\n",
    "print(a%c)\n"
   ]
  },
  {
   "cell_type": "code",
   "execution_count": 21,
   "metadata": {},
   "outputs": [
    {
     "name": "stdout",
     "output_type": "stream",
     "text": [
      "13\n",
      "8\n",
      "40\n",
      "8.0\n",
      "1.0\n",
      "1.0\n"
     ]
    }
   ],
   "source": [
    "a=8\n",
    "b=5\n",
    "c=3\n",
    "a+=b\n",
    "print(a)\n",
    "a-=b\n",
    "print(a)\n",
    "a*=b\n",
    "print(a)\n",
    "a/=b\n",
    "print(a)\n",
    "a//=b\n",
    "print(a)\n",
    "a**=b\n",
    "print(a)"
   ]
  },
  {
   "cell_type": "code",
   "execution_count": 28,
   "metadata": {},
   "outputs": [
    {
     "name": "stdout",
     "output_type": "stream",
     "text": [
      "done\n"
     ]
    }
   ],
   "source": [
    "a=8\n",
    "b=5\n",
    "c=3\n",
    "if a==b:\n",
    "    print(\"They are equal\")\n",
    "elif not a>b and b<8:\n",
    "    print(\"you got it\")\n",
    "else:\n",
    "    print(\"done\")"
   ]
  },
  {
   "cell_type": "code",
   "execution_count": 26,
   "metadata": {},
   "outputs": [
    {
     "name": "stdout",
     "output_type": "stream",
     "text": [
      "p\n"
     ]
    }
   ],
   "source": [
    "a=\"\"\n",
    "if  a:\n",
    "    print(\"null\")\n",
    "else:\n",
    "    print(\"p\")"
   ]
  },
  {
   "cell_type": "markdown",
   "metadata": {},
   "source": [
    "a=10\n",
    "print(type(a) is int)"
   ]
  },
  {
   "cell_type": "code",
   "execution_count": 30,
   "metadata": {},
   "outputs": [
    {
     "name": "stdout",
     "output_type": "stream",
     "text": [
      "False\n"
     ]
    }
   ],
   "source": [
    "a=10 \n",
    "print(type(a) is not int)"
   ]
  },
  {
   "cell_type": "code",
   "execution_count": 33,
   "metadata": {},
   "outputs": [
    {
     "name": "stdout",
     "output_type": "stream",
     "text": [
      "not\n"
     ]
    }
   ],
   "source": [
    "lst=[12,23,345]\n",
    "i=12\n",
    "if i not in lst:\n",
    "    print(\"present\")\n",
    "else:\n",
    "    print(\"not\")"
   ]
  }
 ],
 "metadata": {
  "kernelspec": {
   "display_name": "Python 3",
   "language": "python",
   "name": "python3"
  },
  "language_info": {
   "codemirror_mode": {
    "name": "ipython",
    "version": 3
   },
   "file_extension": ".py",
   "mimetype": "text/x-python",
   "name": "python",
   "nbconvert_exporter": "python",
   "pygments_lexer": "ipython3",
   "version": "3.8.8"
  }
 },
 "nbformat": 4,
 "nbformat_minor": 2
}
